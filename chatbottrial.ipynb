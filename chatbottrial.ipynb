{
  "nbformat": 4,
  "nbformat_minor": 0,
  "metadata": {
    "colab": {
      "provenance": [],
      "authorship_tag": "ABX9TyOigvEa1OslB7Bj4UBl0v0M",
      "include_colab_link": true
    },
    "kernelspec": {
      "name": "python3",
      "display_name": "Python 3"
    },
    "language_info": {
      "name": "python"
    }
  },
  "cells": [
    {
      "cell_type": "markdown",
      "metadata": {
        "id": "view-in-github",
        "colab_type": "text"
      },
      "source": [
        "<a href=\"https://colab.research.google.com/github/aishwaryaawsarkar/ISLAB1/blob/main/chatbottrial.ipynb\" target=\"_parent\"><img src=\"https://colab.research.google.com/assets/colab-badge.svg\" alt=\"Open In Colab\"/></a>"
      ]
    },
    {
      "cell_type": "code",
      "execution_count": null,
      "metadata": {
        "id": "PY3GrkO9PKff"
      },
      "outputs": [],
      "source": [
        "import re \n",
        "import random\n"
      ]
    },
    {
      "cell_type": "markdown",
      "source": [],
      "metadata": {
        "id": "1RoyIm9zPSjw"
      }
    },
    {
      "cell_type": "code",
      "source": [
        "class Rulebot:\n",
        "  ### negative responses\n",
        "  negative_reponses = (\"no\", \"nope\", \"sorry\",\"not a chance\")\n",
        "  ### exit converstaion\n",
        "  exit_commands = (\"quit\",\"oause\",\"exit\",\"goodbye\",\"bye\")\n",
        "  ### Random starter question\n",
        "  random_question = (\n",
        "      \"why are you here?\",\n",
        "      \"are there many humans like you?\",\n",
        "      )\n",
        "  \n",
        "  def_init_(self):\n",
        "    self.alienbabble = {'describe planet intent': r'.*\\s*your planet.*',\n",
        "                        'ans_why_intent': r 'why\\sare.*',\n",
        "                        'about_intellipat': r'.*\\s*intellipat'}\n",
        "\n",
        "  def greet(self):\n",
        "    sellf.name = input(\"whats your name?\\n\")\n",
        "    will_help = input(\n",
        "        f\"Hi {self.name}, I am Rulebot. Will you help me learn about your planet?\\n\")\n",
        "    if will_help in slef.negative_responses:\n",
        "      print(\"ok, have a nice day\")\n",
        "      return\n",
        "      self.chat()\n",
        "\n",
        "  def make_exit(self, reply):\n",
        "    for command in self.exit_commands:\n",
        "      if reply == command:\n",
        "        print(\"okay, have a nice day\")\n",
        "        return True\n",
        "\n",
        " def chat(self, reply):\n",
        "   reply = input(random.choice(slef.random_question).lower)\n",
        "   while not self.make_exit(reply):\n",
        "     reply = input(self.match_reply(reply))\n",
        "\n",
        " def match reply\n"
      ],
      "metadata": {
        "id": "A1hQzQppPT_n"
      },
      "execution_count": null,
      "outputs": []
    }
  ]
}